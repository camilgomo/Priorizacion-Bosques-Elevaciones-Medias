{
  "cells": [
    {
      "cell_type": "markdown",
      "metadata": {
        "id": "view-in-github",
        "colab_type": "text"
      },
      "source": [
        "<a href=\"https://colab.research.google.com/github/camilgomo/Priorizacion-Bosques-Elevaciones-Medias/blob/main/treecover1570_PAs.ipynb\" target=\"_parent\"><img src=\"https://colab.research.google.com/assets/colab-badge.svg\" alt=\"Open In Colab\"/></a>"
      ]
    },
    {
      "cell_type": "code",
      "execution_count": null,
      "id": "77c3b9d0",
      "metadata": {
        "scrolled": true,
        "id": "77c3b9d0"
      },
      "outputs": [],
      "source": [
        "!pip install earthengine-api\n",
        "!pip install geemap\n",
        "!pip install pycountry_convert\n",
        "\n",
        "import ee\n",
        "import geemap.foliumap as geemap\n",
        "\n",
        "# Inicializar la API de Earth Engine\n",
        "ee.Authenticate()\n",
        "ee.Initialize()"
      ]
    },
    {
      "cell_type": "code",
      "execution_count": null,
      "id": "f23504f8",
      "metadata": {
        "scrolled": true,
        "id": "f23504f8"
      },
      "outputs": [],
      "source": [
        "# Definir geometría de interés (aoi)\n",
        "pais = \"Venezuela\"\n",
        "gaul = ee.FeatureCollection(\"FAO/GAUL/2015/level1\").filter(ee.Filter.eq(\"ADM0_NAME\", pais))\n",
        "aoi = gaul.geometry()\n",
        "\n",
        "# Definir capa de elevación ALOS\n",
        "alos = ee.ImageCollection(\"JAXA/ALOS/AW3D30/V3_2\").select('DSM').mosaic().clip(aoi)\n",
        "\n",
        "# Definir capa de cobertura de bosque y quitarle deforestación\n",
        "hansen = ee.Image(\"UMD/hansen/global_forest_change_2020_v1_8\").clip(aoi)\n",
        "treecover = hansen.select(\"treecover2000\")\n",
        "lossyear = hansen.select(\"lossyear\")\n",
        "treecover_2020 = treecover.where(lossyear, 0)\n",
        "cob70 = treecover_2020.updateMask(treecover_2020.gte(70)).gte(1)\n",
        "\n",
        "# Definir capa de altura de dosel (ETH) y quitarle deforestación\n",
        "eth = ee.Image(\"users/nlang/ETH_GlobalCanopyHeight_2020_10m_v1\").clip(aoi)\n",
        "eth_def = eth.where(lossyear, 0)\n",
        "alt15 = eth_def.updateMask(eth_def.gte(15)).gte(1).reproject(crs=hansen.projection(), scale=30)\n",
        "\n",
        "# Seleccionar elevaciones entre 1000 y 2250 m y recortar las capas cob70 y alt15\n",
        "rango = alos.gte(1000).And(alos.lte(2250))\n",
        "cob70_rango = cob70.updateMask(rango)\n",
        "alt15_rango = alt15.updateMask(rango)\n",
        "\n",
        "# Mostrar mapa treecover70_rango y alt15_rango\n",
        "location = [aoi.centroid().getInfo()['coordinates'][1], aoi.centroid().getInfo()['coordinates'][0]]\n",
        "Map = geemap.Map(location=location, zoom_start=7)\n",
        "Map.addLayer(cob70_rango, {\"palette\": \"Greens\"}, \"Cobertura dosel =>70 en rango\")\n",
        "Map.addLayer(alt15_rango, {\"palette\": \"Blues\"}, \"Altura dosel =>15 en rango\")\n",
        "Map.addLayer(lossyear, {\"min\": 1, \"max\": 20, \"palette\": [\"pink\", \"red\"]}, \"Pérdida por año\")\n",
        "#Map.addLayer(alos_filtered, {}, \"rango elevaciones\")\n",
        "Map"
      ]
    },
    {
      "cell_type": "code",
      "execution_count": null,
      "id": "3380b8b7",
      "metadata": {
        "id": "3380b8b7"
      },
      "outputs": [],
      "source": [
        "# Calcular la multiplicación de las capas de cobertura y altura de dosel\n",
        "canopy_mult = cob70_rango.multiply(alt15_rango)\n",
        "\n",
        "# Crear una capa de enmascaramiento para los píxeles superpuestos\n",
        "mask = cob70_rango.gt(0).And(alt15_rango.gt(0))\n",
        "\n",
        "# Aplicar la capa de enmascaramiento a la capa resultante\n",
        "canopy_final = canopy_mult.updateMask(mask)\n",
        "\n",
        "# Mostrar mapa final\n",
        "location = [aoi.centroid().getInfo()['coordinates'][1], aoi.centroid().getInfo()['coordinates'][0]]\n",
        "Map = geemap.Map(location=location, zoom_start=7)\n",
        "Map.addLayer(canopy_final, {}, \"Cobertura de interés en rango\")\n",
        "Map"
      ]
    },
    {
      "cell_type": "code",
      "execution_count": null,
      "id": "66d4cb08",
      "metadata": {
        "id": "66d4cb08"
      },
      "outputs": [],
      "source": [
        "#Obtener código ISO3 del país\n",
        "import pycountry_convert as pc\n",
        "\n",
        "iso3 = pc.country_name_to_country_alpha3(pais, cn_name_format=\"default\")\n",
        "print(iso3)\n",
        "\n",
        "# Importar áreas protegidas\n",
        "wdpa = ee.FeatureCollection(\"WCMC/WDPA/current/polygons\")\n",
        "wdpa_pais = wdpa.filter(ee.Filter.And(\n",
        "    ee.Filter.eq(\"ISO3\", iso3),\n",
        "    ee.Filter.inList(\"IUCN_CAT\", [\"Ia\", \"Ib\", \"II\", \"III\", \"IV\", \"V\", \"VI\"])\n",
        "))\n",
        "\n",
        "wdpa_image = wdpa_pais.reduceToImage(properties=['WDPAID'], reducer=ee.Reducer.first()).unmask()\n",
        "\n",
        "# Estilo de la capa de áreas protegidas\n",
        "wdpa_style = {'color': 'white', 'fillColor': 'blue'}\n",
        "\n",
        "# Restar los píxeles de wdpa_image a la capa canopy_final\n",
        "canopy_final_no_protegida = canopy_final.where(wdpa_image, 0)\n",
        "\n",
        "# Agregar capa de canopy final sin áreas protegidas al mapa\n",
        "Map = geemap.Map(location=location, zoom_start=7)\n",
        "Map.addLayer(wdpa_pais, wdpa_style, 'Áreas protegidas')\n",
        "Map.addLayer(canopy_final_no_protegida, {'min': 0, 'max': 1, 'palette': ['white', 'green']}, 'Coberturas de interés no protegidas')\n",
        "Map"
      ]
    },
    {
      "cell_type": "code",
      "execution_count": null,
      "id": "7d8bfd8d",
      "metadata": {
        "id": "7d8bfd8d"
      },
      "outputs": [],
      "source": [
        "#Tamaño de los archivos a exportar\n",
        "def get_size(image):\n",
        "    pixels = image.pixelLonLat().reduceRegion(ee.Reducer.count(), image.geometry(), 30, maxPixels=1e10).get(\"longitude\")\n",
        "    size = pixels.getInfo() * 30 * 30 / 1024\n",
        "    if size > 1024:\n",
        "        return \"{:.2f} MB\".format(size / 1024)\n",
        "    else:\n",
        "        return \"{:.2f} KB\".format(size)\n",
        "    \n",
        "size = get_size(canopy_final)\n",
        "print(\"Tamaño de archivo de canopy_final: {}\".format(size))\n",
        "\n",
        "size = get_size(canopy_final_no_protegida)\n",
        "print(\"Tamaño de archivo de canopy_final_no_protegida: {}\".format(size))"
      ]
    },
    {
      "cell_type": "code",
      "execution_count": null,
      "id": "37f5a842",
      "metadata": {
        "id": "37f5a842"
      },
      "outputs": [],
      "source": [
        "# Exportar como GeoTIFF optimizado para la nube\n",
        "task = ee.batch.Export.image.toDrive(\n",
        "    image = canopy_final,\n",
        "    description = \"canopy_final\",\n",
        "    folder = \"GEE\",\n",
        "    fileNamePrefix = \"canopy_final\",\n",
        "    scale = 30,\n",
        "    region = aoi.bounds().getInfo()[\"coordinates\"],\n",
        "    fileFormat = \"GeoTIFF\",\n",
        "    dimensions = \"256x256\",\n",
        "    maxPixels=1e13,\n",
        "    skipEmptyTiles = True,\n",
        "    formatOptions = {\n",
        "        \"cloudOptimized\": True\n",
        "    }\n",
        ")\n",
        "\n",
        "#task.start()\n",
        "\n",
        "# Exportar como GeoTIFF optimizado para la nube\n",
        "task = ee.batch.Export.image.toDrive(\n",
        "    image=canopy_final_no_protegida,\n",
        "    description=\"canopy_final_no_protegida\",\n",
        "    folder=\"GEE\",\n",
        "    fileNamePrefix=\"canopy_final_no_protegida\",\n",
        "    scale=30,\n",
        "    region = aoi.bounds().getInfo()[\"coordinates\"],\n",
        "    fileFormat = \"GeoTIFF\",\n",
        "    dimensions = \"256x256\",\n",
        "    maxPixels=1e13,\n",
        "    skipEmptyTiles = True,\n",
        "    formatOptions = {\n",
        "        \"cloudOptimized\": True\n",
        "    }\n",
        ")\n",
        "\n",
        "#task.start()"
      ]
    },
    {
      "cell_type": "code",
      "execution_count": null,
      "id": "1693a470",
      "metadata": {
        "scrolled": true,
        "id": "1693a470"
      },
      "outputs": [],
      "source": [
        "tasklist = ee.batch.Task.list()\n",
        "print(tasklist)"
      ]
    },
    {
      "cell_type": "code",
      "execution_count": null,
      "id": "708fce6d",
      "metadata": {
        "id": "708fce6d"
      },
      "outputs": [],
      "source": []
    }
  ],
  "metadata": {
    "kernelspec": {
      "display_name": "Python 3 (ipykernel)",
      "language": "python",
      "name": "python3"
    },
    "language_info": {
      "codemirror_mode": {
        "name": "ipython",
        "version": 3
      },
      "file_extension": ".py",
      "mimetype": "text/x-python",
      "name": "python",
      "nbconvert_exporter": "python",
      "pygments_lexer": "ipython3",
      "version": "3.10.9"
    },
    "colab": {
      "provenance": [],
      "include_colab_link": true
    }
  },
  "nbformat": 4,
  "nbformat_minor": 5
}
